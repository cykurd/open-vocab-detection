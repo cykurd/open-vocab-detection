{
  "cells": [
    {
      "cell_type": "markdown",
      "metadata": {},
      "source": [
        "# Zero-Shot Road Hazard Detection - Colab Training\n",
        "\n",
        "This notebook trains cross-attention layers on BDD100K data for zero-shot object detection.\n"
      ]
    },
    {
      "cell_type": "code",
      "execution_count": null,
      "metadata": {},
      "outputs": [],
      "source": [
        "# Install dependencies\n",
        "%pip install torch torchvision transformers matplotlib pillow numpy\n",
        "\n",
        "# Mount Google Drive\n",
        "from google.colab import drive\n",
        "drive.mount('/content/drive')\n",
        "\n",
        "# Clone repository\n",
        "!git clone https://github.com/cykurd/open-vocab-detection.git /content/open-vocab-detection\n",
        "%cd /content/open-vocab-detection\n"
      ]
    },
    {
      "cell_type": "code",
      "execution_count": null,
      "metadata": {},
      "outputs": [],
      "source": [
        "# Verify data structure\n",
        "import os\n",
        "data_path = '/content/drive/MyDrive/10k_clean'\n",
        "print(f\"Data path: {data_path}\")\n",
        "print(f\"Exists: {os.path.exists(data_path)}\")\n",
        "\n",
        "if os.path.exists(data_path):\n",
        "    print(\"\\nDirectory contents:\")\n",
        "    for item in os.listdir(data_path):\n",
        "        item_path = os.path.join(data_path, item)\n",
        "        if os.path.isdir(item_path):\n",
        "            count = len(os.listdir(item_path))\n",
        "            print(f\"  {item}/ ({count} items)\")\n",
        "        else:\n",
        "            print(f\"  {item}\")\n",
        "    \n",
        "    # Check for images and labels\n",
        "    images_path = os.path.join(data_path, 'images')\n",
        "    labels_path = os.path.join(data_path, 'labels')\n",
        "    \n",
        "    if os.path.exists(images_path):\n",
        "        print(f\"\\nImages directory found: {images_path}\")\n",
        "        for split in ['train', 'val', 'test']:\n",
        "            split_path = os.path.join(images_path, split)\n",
        "            if os.path.exists(split_path):\n",
        "                count = len([f for f in os.listdir(split_path) if f.endswith('.jpg')])\n",
        "                print(f\"  {split}: {count} images\")\n",
        "    \n",
        "    if os.path.exists(labels_path):\n",
        "        print(f\"\\nLabels directory found: {labels_path}\")\n",
        "        for f in os.listdir(labels_path):\n",
        "            if f.endswith('.json'):\n",
        "                print(f\"  {f}\")\n",
        "else:\n",
        "    print(\"❌ Data directory not found! Please check the path.\")\n"
      ]
    },
    {
      "cell_type": "code",
      "execution_count": null,
      "metadata": {},
      "outputs": [],
      "source": [
        "# Quick smoke test (2 samples, 2 steps)\n",
        "!python train_bdd100k.py --data_dir /content/drive/MyDrive/10k_clean --split train --use_10k --max_samples 2 --steps 2 --device cuda\n"
      ]
    },
    {
      "cell_type": "code",
      "execution_count": null,
      "metadata": {},
      "outputs": [],
      "source": [
        "# Full training run\n",
        "!python train_bdd100k.py --data_dir /content/drive/MyDrive/10k_clean --split train --use_10k --max_samples 1000 --steps 100 --batch_size 1 --lr 1e-5 --device cuda\n"
      ]
    },
    {
      "cell_type": "code",
      "execution_count": null,
      "metadata": {},
      "outputs": [],
      "source": [
        "# Validation run\n",
        "!python train_bdd100k.py --data_dir /content/drive/MyDrive/10k_clean --split val --use_10k --max_samples 100 --steps 10 --batch_size 1 --lr 1e-5 --device cuda\n"
      ]
    },
    {
      "cell_type": "code",
      "execution_count": null,
      "metadata": {},
      "outputs": [],
      "source": [
        "# Save any generated checkpoints or results to Drive\n",
        "import shutil\n",
        "import os\n",
        "\n",
        "# Create results directory in Drive\n",
        "results_dir = '/content/drive/MyDrive/training_results'\n",
        "os.makedirs(results_dir, exist_ok=True)\n",
        "\n",
        "# Look for any generated files\n",
        "local_results = ['checkpoints', 'logs', 'results']\n",
        "for item in local_results:\n",
        "    if os.path.exists(item):\n",
        "        dest = os.path.join(results_dir, item)\n",
        "        if os.path.isdir(item):\n",
        "            shutil.copytree(item, dest, dirs_exist_ok=True)\n",
        "        else:\n",
        "            shutil.copy2(item, dest)\n",
        "        print(f\"Saved {item} to Drive\")\n",
        "\n",
        "print(f\"\\nResults saved to: {results_dir}\")\n",
        "print(\"Training completed!\")\n"
      ]
    }
  ],
  "metadata": {
    "language_info": {
      "name": "python"
    }
  },
  "nbformat": 4,
  "nbformat_minor": 2
}
