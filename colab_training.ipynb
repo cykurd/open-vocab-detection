{
  "cells": [
    {
      "cell_type": "markdown",
      "metadata": {},
      "source": [
        "\n"
      ]
    },
    {
      "cell_type": "code",
      "execution_count": null,
      "metadata": {},
      "outputs": [],
      "source": [
        "\n"
      ]
    },
    {
      "cell_type": "code",
      "execution_count": null,
      "metadata": {},
      "outputs": [],
      "source": [
        "# Diagnostic: Check what's actually in the data directory\n",
        "import os\n",
        "print(f\"Data directory: {os.environ['DATA_DIR']}\")\n",
        "print(f\"Directory exists: {os.path.exists(os.environ['DATA_DIR'])}\")\n",
        "\n",
        "if os.path.exists(os.environ['DATA_DIR']):\n",
        "    print(\"\\nContents of data directory:\")\n",
        "    for item in os.listdir(os.environ['DATA_DIR']):\n",
        "        item_path = os.path.join(os.environ['DATA_DIR'], item)\n",
        "        print(f\"  {item} ({'dir' if os.path.isdir(item_path) else 'file'})\")\n",
        "        \n",
        "    # Check for train subdirectory\n",
        "    train_path = os.path.join(os.environ['DATA_DIR'], 'train')\n",
        "    if os.path.exists(train_path):\n",
        "        print(f\"\\nContents of train directory:\")\n",
        "        train_files = os.listdir(train_path)\n",
        "        print(f\"  Found {len(train_files)} files\")\n",
        "        if len(train_files) > 0:\n",
        "            print(f\"  First few files: {train_files[:5]}\")\n",
        "    else:\n",
        "        print(f\"\\nTrain directory not found at: {train_path}\")\n",
        "        \n",
        "    # Check for labels/annotations\n",
        "    for labels_dir in ['labels', 'annotations']:\n",
        "        labels_path = os.path.join(os.environ['DATA_DIR'], labels_dir)\n",
        "        if os.path.exists(labels_path):\n",
        "            print(f\"\\nContents of {labels_dir} directory:\")\n",
        "            for item in os.listdir(labels_path):\n",
        "                print(f\"  {item}\")\n",
        "        else:\n",
        "            print(f\"\\n{labels_dir} directory not found at: {labels_path}\")\n",
        "else:\n",
        "    print(\"Data directory does not exist!\")\n"
      ]
    },
    {
      "cell_type": "code",
      "execution_count": null,
      "metadata": {},
      "outputs": [],
      "source": [
        "\n"
      ]
    },
    {
      "cell_type": "code",
      "execution_count": null,
      "metadata": {},
      "outputs": [],
      "source": [
        "# Quick smoke test (2 samples, 2 steps)\n",
        "!python train_bdd100k.py --data_dir \"$DATA_DIR\" --split train --use_10k --max_samples 2 --steps 2 --device cuda\n"
      ]
    },
    {
      "cell_type": "code",
      "execution_count": null,
      "metadata": {},
      "outputs": [],
      "source": [
        "# Full training run\n",
        "!python train_bdd100k.py --data_dir \"$DATA_DIR\" --split train --use_10k --max_samples 1000 --steps 100 --batch_size 1 --lr 1e-5 --device cuda\n"
      ]
    },
    {
      "cell_type": "code",
      "execution_count": null,
      "metadata": {},
      "outputs": [],
      "source": [
        "# Validation run\n",
        "!python train_bdd100k.py --data_dir \"$DATA_DIR\" --split val --use_10k --max_samples 100 --steps 10 --batch_size 1 --lr 1e-5 --device cuda\n"
      ]
    },
    {
      "cell_type": "code",
      "execution_count": null,
      "metadata": {},
      "outputs": [],
      "source": [
        "\n"
      ]
    }
  ],
  "metadata": {
    "kernelspec": {
      "display_name": "venv",
      "language": "python",
      "name": "python3"
    },
    "language_info": {
      "codemirror_mode": {
        "name": "ipython",
        "version": 3
      },
      "file_extension": ".py",
      "mimetype": "text/x-python",
      "name": "python",
      "nbconvert_exporter": "python",
      "pygments_lexer": "ipython3",
      "version": "3.13.5"
    }
  },
  "nbformat": 4,
  "nbformat_minor": 2
}
