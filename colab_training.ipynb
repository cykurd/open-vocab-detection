{
  "cells": [
    {
      "cell_type": "markdown",
      "metadata": {},
      "source": [
        "# Zero-Shot Road Hazard Detection - Colab Training\n",
        "\n",
        "This notebook trains cross-attention layers on BDD100K data for zero-shot object detection.\n"
      ]
    },
    {
      "cell_type": "code",
      "execution_count": null,
      "metadata": {},
      "outputs": [],
      "source": [
        "# Install dependencies\n",
        "%pip install torch torchvision transformers matplotlib pillow numpy\n",
        "\n",
        "# Mount Google Drive\n",
        "from google.colab import drive\n",
        "drive.mount('/content/drive')\n",
        "\n",
        "# Set data directory path\n",
        "import os\n",
        "os.environ['DATA_DIR'] = '/content/drive/MyDrive/Fall 2025 Semester/DL for CV/Final Project/Colab/10k_train'\n",
        "print(f\"Data directory set to: {os.environ['DATA_DIR']}\")\n",
        "\n",
        "# Clone repository\n",
        "!git clone https://github.com/cykurd/open-vocab-detection.git /content/open-vocab-detection\n",
        "%cd /content/open-vocab-detection\n",
        "!git pull origin main\n"
      ]
    },
    {
      "cell_type": "code",
      "execution_count": null,
      "metadata": {},
      "outputs": [],
      "source": [
        "# If the above didn't find your data, manually set the path here:\n",
        "# Uncomment and modify the line below with your actual path\n",
        "# import os\n",
        "# os.environ['DATA_DIR'] = '/content/drive/MyDrive/your/actual/path/10k_clean'\n",
        "# print(f\"Manually set DATA_DIR to: {os.environ['DATA_DIR']}\")\n",
        "\n",
        "# Or if you need to explore your Drive structure:\n",
        "# !ls -la /content/drive/MyDrive/\n",
        "# !find /content/drive/MyDrive -name \"*10k*\" -type d\n"
      ]
    },
    {
      "cell_type": "code",
      "execution_count": null,
      "metadata": {},
      "outputs": [],
      "source": [
        "# Quick smoke test (2 samples, 2 steps)\n",
        "!python train_bdd100k.py --data_dir $DATA_DIR --split train --use_10k --max_samples 2 --steps 2 --device cuda\n"
      ]
    },
    {
      "cell_type": "code",
      "execution_count": null,
      "metadata": {},
      "outputs": [],
      "source": [
        "# Full training run\n",
        "!python train_bdd100k.py --data_dir $DATA_DIR --split train --use_10k --max_samples 1000 --steps 100 --batch_size 1 --lr 1e-5 --device cuda\n"
      ]
    },
    {
      "cell_type": "code",
      "execution_count": null,
      "metadata": {},
      "outputs": [],
      "source": [
        "# Validation run\n",
        "!python train_bdd100k.py --data_dir $DATA_DIR --split val --use_10k --max_samples 100 --steps 10 --batch_size 1 --lr 1e-5 --device cuda\n"
      ]
    },
    {
      "cell_type": "code",
      "execution_count": null,
      "metadata": {},
      "outputs": [],
      "source": [
        "# Save any generated checkpoints or results to Drive\n",
        "import shutil\n",
        "import os\n",
        "\n",
        "# Create results directory in Drive\n",
        "results_dir = '/content/drive/MyDrive/training_results'\n",
        "os.makedirs(results_dir, exist_ok=True)\n",
        "\n",
        "# Look for any generated files\n",
        "local_results = ['checkpoints', 'logs', 'results']\n",
        "for item in local_results:\n",
        "    if os.path.exists(item):\n",
        "        dest = os.path.join(results_dir, item)\n",
        "        if os.path.isdir(item):\n",
        "            shutil.copytree(item, dest, dirs_exist_ok=True)\n",
        "        else:\n",
        "            shutil.copy2(item, dest)\n",
        "        print(f\"Saved {item} to Drive\")\n",
        "\n",
        "print(f\"\\nResults saved to: {results_dir}\")\n",
        "print(\"Training completed!\")\n"
      ]
    }
  ],
  "metadata": {
    "kernelspec": {
      "display_name": "venv",
      "language": "python",
      "name": "python3"
    },
    "language_info": {
      "codemirror_mode": {
        "name": "ipython",
        "version": 3
      },
      "file_extension": ".py",
      "mimetype": "text/x-python",
      "name": "python",
      "nbconvert_exporter": "python",
      "pygments_lexer": "ipython3",
      "version": "3.13.5"
    }
  },
  "nbformat": 4,
  "nbformat_minor": 2
}
